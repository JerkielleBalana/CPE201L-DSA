{
  "nbformat": 4,
  "nbformat_minor": 0,
  "metadata": {
    "colab": {
      "provenance": [],
      "toc_visible": true,
      "authorship_tag": "ABX9TyPEjUMFTbQQIjvuJSq50Vd4",
      "include_colab_link": true
    },
    "kernelspec": {
      "name": "python3",
      "display_name": "Python 3"
    },
    "language_info": {
      "name": "python"
    }
  },
  "cells": [
    {
      "cell_type": "markdown",
      "metadata": {
        "id": "view-in-github",
        "colab_type": "text"
      },
      "source": [
        "<a href=\"https://colab.research.google.com/github/JerkielleBalana/CPE201L-DSA/blob/main/skilltest(Array).ipynb\" target=\"_parent\"><img src=\"https://colab.research.google.com/assets/colab-badge.svg\" alt=\"Open In Colab\"/></a>"
      ]
    },
    {
      "cell_type": "code",
      "execution_count": 1,
      "metadata": {
        "colab": {
          "base_uri": "https://localhost:8080/"
        },
        "id": "ta0uUwyDTEoY",
        "outputId": "5f495f06-fd06-4fbc-9edf-c3bd3f10a29a"
      },
      "outputs": [
        {
          "output_type": "stream",
          "name": "stdout",
          "text": [
            "Full Name: Jerkielle Roen O. Balana\n",
            "Traversing array:\n",
            "J\n",
            "e\n",
            "r\n",
            "k\n",
            "i\n",
            "e\n",
            "l\n",
            "l\n",
            "e\n",
            " \n",
            "R\n",
            "o\n",
            "e\n",
            "n\n",
            " \n",
            "O\n",
            ".\n",
            " \n",
            "B\n",
            "a\n",
            "l\n",
            "a\n",
            "n\n",
            "a\n"
          ]
        }
      ],
      "source": [
        "def append_name_characters(name):\n",
        "    arr = []\n",
        "    for ch in name:\n",
        "        arr.append(ch)\n",
        "    return arr\n",
        "\n",
        "def traverse_array(arr):\n",
        "    print(\"Traversing array:\")\n",
        "    for i, ch in enumerate(arr):\n",
        "        print(f\"{ch}\")\n",
        "\n",
        "def main():\n",
        "    full_name = \"Jerkielle Roen O. Balana\"\n",
        "    print(f\"Full Name: {full_name}\")\n",
        "\n",
        "    name_array = append_name_characters(full_name)\n",
        "\n",
        "    traverse_array(name_array)\n",
        "\n",
        "if __name__ == \"__main__\":\n",
        "    main()\n"
      ]
    }
  ]
}
