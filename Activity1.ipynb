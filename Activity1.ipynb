{
  "nbformat": 4,
  "nbformat_minor": 0,
  "metadata": {
    "colab": {
      "provenance": [],
      "authorship_tag": "ABX9TyMbBRcQiSjvmbZL8K1qOqGR",
      "include_colab_link": true
    },
    "kernelspec": {
      "name": "python3",
      "display_name": "Python 3"
    },
    "language_info": {
      "name": "python"
    }
  },
  "cells": [
    {
      "cell_type": "markdown",
      "metadata": {
        "id": "view-in-github",
        "colab_type": "text"
      },
      "source": [
        "<a href=\"https://colab.research.google.com/github/JerkielleBalana/CPE201L-DSA/blob/main/Activity1.ipynb\" target=\"_parent\"><img src=\"https://colab.research.google.com/assets/colab-badge.svg\" alt=\"Open In Colab\"/></a>"
      ]
    },
    {
      "cell_type": "markdown",
      "source": [
        "1."
      ],
      "metadata": {
        "id": "ztIq-Y4L0YXU"
      }
    },
    {
      "cell_type": "code",
      "execution_count": 9,
      "metadata": {
        "colab": {
          "base_uri": "https://localhost:8080/"
        },
        "id": "jrK2fYdVymJX",
        "outputId": "71153b8b-051a-4522-831c-93168940b616"
      },
      "outputs": [
        {
          "output_type": "stream",
          "name": "stdout",
          "text": [
            "Enter the radius of the circle: 7\n",
            "The area of the circle is: 153.86\n"
          ]
        }
      ],
      "source": [
        "import math\n",
        "radius = float(input(\"Enter the radius of the circle: \"))\n",
        "area_circle = 3.14 * radius * radius\n",
        "print(\"The area of the circle is:\",area_circle)\n",
        "\n"
      ]
    },
    {
      "cell_type": "markdown",
      "source": [
        "2."
      ],
      "metadata": {
        "id": "aW2kQnyY0dj7"
      }
    },
    {
      "cell_type": "code",
      "source": [
        "import math\n",
        "radius = float(input('Enter the radius of the circle:'))\n",
        "diameter = radius*2\n",
        "area_circle = 3.14 * diameter**2 / 4\n",
        "print(\"The area of the circle is:\",area_circle)"
      ],
      "metadata": {
        "colab": {
          "base_uri": "https://localhost:8080/"
        },
        "id": "qNXsirzf0fGv",
        "outputId": "65ae2000-d086-481d-c897-d5c073809ce0"
      },
      "execution_count": 18,
      "outputs": [
        {
          "output_type": "stream",
          "name": "stdout",
          "text": [
            "Enter the radius of the circle:7\n",
            "The area of the circle is: 153.86\n"
          ]
        }
      ]
    }
  ]
}